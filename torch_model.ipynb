{
  "nbformat": 4,
  "nbformat_minor": 0,
  "metadata": {
    "colab": {
      "provenance": [],
      "gpuType": "T4"
    },
    "kernelspec": {
      "name": "python3",
      "display_name": "Python 3"
    },
    "language_info": {
      "name": "python"
    },
    "accelerator": "GPU"
  },
  "cells": [
    {
      "cell_type": "markdown",
      "source": [
        "# ML-модель для геомаркетинга. В этом ноутбуке показано, как происходили предобработка данных, обучение и тестирование модели."
      ],
      "metadata": {
        "id": "Bocxj0a6pk6-"
      }
    },
    {
      "cell_type": "markdown",
      "source": [
        "## Загрузка данных и препроцессинг."
      ],
      "metadata": {
        "id": "c-R3WGMXYhAU"
      }
    },
    {
      "cell_type": "code",
      "execution_count": null,
      "metadata": {
        "colab": {
          "base_uri": "https://localhost:8080/"
        },
        "id": "fVBCXKtAYfz8",
        "outputId": "0de1aa51-76f9-4781-ed30-3c0c622ad57b"
      },
      "outputs": [
        {
          "output_type": "stream",
          "name": "stdout",
          "text": [
            "Looking in indexes: https://pypi.org/simple, https://us-python.pkg.dev/colab-wheels/public/simple/\n",
            "Collecting catboost\n",
            "  Downloading catboost-1.2-cp310-cp310-manylinux2014_x86_64.whl (98.6 MB)\n",
            "\u001b[2K     \u001b[90m━━━━━━━━━━━━━━━━━━━━━━━━━━━━━━━━━━━━━━━━\u001b[0m \u001b[32m98.6/98.6 MB\u001b[0m \u001b[31m10.4 MB/s\u001b[0m eta \u001b[36m0:00:00\u001b[0m\n",
            "\u001b[?25hRequirement already satisfied: graphviz in /usr/local/lib/python3.10/dist-packages (from catboost) (0.20.1)\n",
            "Requirement already satisfied: matplotlib in /usr/local/lib/python3.10/dist-packages (from catboost) (3.7.1)\n",
            "Requirement already satisfied: numpy>=1.16.0 in /usr/local/lib/python3.10/dist-packages (from catboost) (1.22.4)\n",
            "Requirement already satisfied: pandas>=0.24 in /usr/local/lib/python3.10/dist-packages (from catboost) (1.5.3)\n",
            "Requirement already satisfied: scipy in /usr/local/lib/python3.10/dist-packages (from catboost) (1.10.1)\n",
            "Requirement already satisfied: plotly in /usr/local/lib/python3.10/dist-packages (from catboost) (5.13.1)\n",
            "Requirement already satisfied: six in /usr/local/lib/python3.10/dist-packages (from catboost) (1.16.0)\n",
            "Requirement already satisfied: python-dateutil>=2.8.1 in /usr/local/lib/python3.10/dist-packages (from pandas>=0.24->catboost) (2.8.2)\n",
            "Requirement already satisfied: pytz>=2020.1 in /usr/local/lib/python3.10/dist-packages (from pandas>=0.24->catboost) (2022.7.1)\n",
            "Requirement already satisfied: contourpy>=1.0.1 in /usr/local/lib/python3.10/dist-packages (from matplotlib->catboost) (1.0.7)\n",
            "Requirement already satisfied: cycler>=0.10 in /usr/local/lib/python3.10/dist-packages (from matplotlib->catboost) (0.11.0)\n",
            "Requirement already satisfied: fonttools>=4.22.0 in /usr/local/lib/python3.10/dist-packages (from matplotlib->catboost) (4.39.3)\n",
            "Requirement already satisfied: kiwisolver>=1.0.1 in /usr/local/lib/python3.10/dist-packages (from matplotlib->catboost) (1.4.4)\n",
            "Requirement already satisfied: packaging>=20.0 in /usr/local/lib/python3.10/dist-packages (from matplotlib->catboost) (23.1)\n",
            "Requirement already satisfied: pillow>=6.2.0 in /usr/local/lib/python3.10/dist-packages (from matplotlib->catboost) (8.4.0)\n",
            "Requirement already satisfied: pyparsing>=2.3.1 in /usr/local/lib/python3.10/dist-packages (from matplotlib->catboost) (3.0.9)\n",
            "Requirement already satisfied: tenacity>=6.2.0 in /usr/local/lib/python3.10/dist-packages (from plotly->catboost) (8.2.2)\n",
            "Installing collected packages: catboost\n",
            "Successfully installed catboost-1.2\n"
          ]
        }
      ],
      "source": [
        "import pandas as pd\n",
        "import numpy as np\n",
        "from matplotlib import pyplot as plt\n",
        "from sklearn.linear_model import LogisticRegression, LogisticRegressionCV, LinearRegression\n",
        "from sklearn.model_selection import train_test_split, GridSearchCV\n",
        "from sklearn.compose import make_column_transformer\n",
        "from sklearn.preprocessing import StandardScaler, RobustScaler, LabelEncoder, OneHotEncoder\n",
        "from sklearn.pipeline import make_pipeline \n",
        "!pip3 install catboost\n",
        "from catboost import CatBoostRegressor"
      ]
    },
    {
      "cell_type": "markdown",
      "source": [
        "## Загрузка данных о расположении магазинов на карте (координаты)."
      ],
      "metadata": {
        "id": "mIhvcejUm7VX"
      }
    },
    {
      "cell_type": "code",
      "source": [
        "from openpyxl import load_workbook\n",
        "from pathlib import Path\n",
        "import itertools as it\n",
        "\n",
        "id_to_address = [[0, 0]]\n",
        "ws = load_workbook(Path('market-coordinates.xlsx'))['Sheet1']\n",
        "address_to_id = {}\n",
        "for i, row in it.islice(enumerate(ws.rows), 1, 1000):\n",
        "    id_to_address.append([row[2].value, row[3].value])\n",
        "    address_to_id[row[1].value] = int(row[0].value)"
      ],
      "metadata": {
        "id": "donCSLpzlsqT"
      },
      "execution_count": null,
      "outputs": []
    },
    {
      "cell_type": "markdown",
      "source": [
        "## Сопоставление адресов и координат."
      ],
      "metadata": {
        "id": "LJqwM0ZgnDga"
      }
    },
    {
      "cell_type": "code",
      "source": [
        "ws = load_workbook(Path('filled-table.xlsx'), read_only=True)['Sheet']\n",
        "\n",
        "market_address_ids = []\n",
        "market_visitor_frequencies = []\n",
        "\n",
        "for i, row in it.islice(enumerate(ws.rows), 229):\n",
        "    address = ' '.join([str(row[i].value) for i in [4, 3, 2]])\n",
        "    #print(address)\n",
        "    market_address_ids.append([row[0].value, address_to_id[address]])\n",
        "    \n",
        "    visitors = int(row[14].value)\n",
        "    try:\n",
        "        days = int(row[15].value)\n",
        "    except TypeError:\n",
        "        days = 30\n",
        "    market_visitor_frequencies.append(visitors / days)\n",
        "\n",
        "print(market_address_ids)\n",
        "print(len(market_address_ids))\n",
        "market_address_ids = np.array(market_address_ids)\n",
        "market_visitor_frequencies = np.array(market_visitor_frequencies)"
      ],
      "metadata": {
        "colab": {
          "base_uri": "https://localhost:8080/"
        },
        "id": "g3wdooi7ljru",
        "outputId": "36a5b677-2381-4003-9afa-0b21a64df526"
      },
      "execution_count": null,
      "outputs": [
        {
          "output_type": "stream",
          "name": "stdout",
          "text": [
            "[[1, 1], [214, 137], [237, 118], [255, 193], [253, 191], [23, 23], [96, 87], [107, 96], [151, 122], [292, 226], [2, 2], [6, 6], [10, 10], [26, 26], [195, 104], [208, 162], [125, 107], [308, 233], [152, 123], [157, 128], [162, 133], [244, 182], [185, 108], [200, 154], [205, 159], [247, 185], [307, 232], [77, 74], [213, 167], [174, 143], [261, 150], [279, 213], [286, 220], [310, 235], [317, 242], [145, 119], [199, 119], [264, 119], [379, 119], [42, 42], [73, 71], [225, 176], [226, 176], [329, 249], [330, 250], [436, 309], [90, 84], [91, 84], [92, 84], [93, 84], [171, 140], [178, 79], [354, 78], [361, 84], [100, 91], [184, 149], [312, 237], [318, 243], [358, 149], [30, 30], [52, 52], [113, 100], [54, 54], [59, 59], [159, 130], [164, 135], [390, 285], [394, 289], [44, 44], [68, 68], [268, 202], [291, 225], [103, 93], [105, 94], [123, 105], [180, 145], [192, 118], [319, 93], [453, 105], [40, 40], [56, 56], [252, 190], [340, 260], [381, 276], [388, 283], [169, 138], [266, 200], [267, 201], [282, 216], [296, 95], [297, 229], [459, 109], [460, 109], [469, 111], [470, 111], [155, 126], [241, 179], [337, 257], [338, 258], [351, 270], [405, 270], [215, 168], [333, 253], [449, 317], [450, 318], [138, 111], [384, 279], [391, 286], [191, 117], [201, 155], [236, 117], [352, 271], [431, 304], [471, 117], [474, 117], [9, 9], [37, 37], [70, 69], [250, 188], [5, 5], [12, 12], [45, 45], [76, 73], [348, 268], [272, 206], [284, 218], [435, 308], [136, 115], [182, 147], [363, 115], [372, 275], [377, 115], [22, 22], [101, 91], [203, 157], [287, 221], [288, 222], [290, 224], [300, 152], [301, 152], [452, 231], [8, 8], [60, 60], [99, 90], [207, 161], [98, 89], [137, 116], [349, 269], [7, 7], [61, 61], [118, 102], [58, 58], [67, 67], [380, 67], [224, 97], [229, 99], [230, 101], [362, 114], [463, 151], [466, 114], [27, 27], [43, 43], [269, 203], [276, 210], [426, 302], [440, 312], [49, 49], [149, 120], [331, 251], [402, 297], [427, 303], [3, 3], [84, 80], [111, 98], [64, 64], [104, 94], [168, 137], [221, 174], [277, 211], [285, 219], [4, 4], [36, 36], [72, 70], [245, 183], [256, 194], [336, 256], [382, 277], [48, 48], [254, 192], [396, 291], [82, 78], [38, 38], [117, 102], [258, 196], [309, 234], [270, 204], [283, 217], [34, 34], [322, 102], [332, 252], [345, 265], [346, 266], [355, 148], [364, 115], [365, 85], [366, 232], [374, 148], [375, 112], [385, 280], [386, 281], [389, 284], [395, 290], [397, 292], [403, 298], [404, 299], [412, 300], [413, 230], [418, 83], [420, 85], [422, 85], [428, 137], [429, 137], [433, 306], [442, 314], [443, 315], [456, 108], [457, 150], [475, 118], [369, 273]]\n",
            "229\n"
          ]
        }
      ]
    },
    {
      "cell_type": "markdown",
      "source": [
        "## Загрузка основного датасета (информация о площади и посещаемости магазинов)."
      ],
      "metadata": {
        "id": "VNwvzybSnYOV"
      }
    },
    {
      "cell_type": "code",
      "source": [
        "main_data = pd.read_csv('./main_data_10.csv')\n",
        "main_data.head()"
      ],
      "metadata": {
        "colab": {
          "base_uri": "https://localhost:8080/",
          "height": 206
        },
        "id": "MHVlb2itn4uf",
        "outputId": "09762c11-3dcb-4933-bc58-ea8cc66f6f10"
      },
      "execution_count": null,
      "outputs": [
        {
          "output_type": "execute_result",
          "data": {
            "text/plain": [
              "   Num         Type Square           Name   Freqs  Period          Building  \\\n",
              "0    1  супермаркет    664      Пятерочка  24 945      28  отдельное здание   \n",
              "1  237      магазин    137         Другие   7 417      31         жилой дом   \n",
              "2  253  супермаркет    203  Ароматный мир  11 760      31         жилой дом   \n",
              "3   23      магазин    216         Другие   6 216      33         жилой дом   \n",
              "4   96      магазин    229         Другие   6 002      30         жилой дом   \n",
              "\n",
              "           FPD  \n",
              "0  890,8928571  \n",
              "1  239,2580645  \n",
              "2  379,3548387  \n",
              "3  188,3636364  \n",
              "4  200,0666667  "
            ],
            "text/html": [
              "\n",
              "  <div id=\"df-c50faf16-0f3d-40b3-bce0-e2795f0f43a0\">\n",
              "    <div class=\"colab-df-container\">\n",
              "      <div>\n",
              "<style scoped>\n",
              "    .dataframe tbody tr th:only-of-type {\n",
              "        vertical-align: middle;\n",
              "    }\n",
              "\n",
              "    .dataframe tbody tr th {\n",
              "        vertical-align: top;\n",
              "    }\n",
              "\n",
              "    .dataframe thead th {\n",
              "        text-align: right;\n",
              "    }\n",
              "</style>\n",
              "<table border=\"1\" class=\"dataframe\">\n",
              "  <thead>\n",
              "    <tr style=\"text-align: right;\">\n",
              "      <th></th>\n",
              "      <th>Num</th>\n",
              "      <th>Type</th>\n",
              "      <th>Square</th>\n",
              "      <th>Name</th>\n",
              "      <th>Freqs</th>\n",
              "      <th>Period</th>\n",
              "      <th>Building</th>\n",
              "      <th>FPD</th>\n",
              "    </tr>\n",
              "  </thead>\n",
              "  <tbody>\n",
              "    <tr>\n",
              "      <th>0</th>\n",
              "      <td>1</td>\n",
              "      <td>супермаркет</td>\n",
              "      <td>664</td>\n",
              "      <td>Пятерочка</td>\n",
              "      <td>24 945</td>\n",
              "      <td>28</td>\n",
              "      <td>отдельное здание</td>\n",
              "      <td>890,8928571</td>\n",
              "    </tr>\n",
              "    <tr>\n",
              "      <th>1</th>\n",
              "      <td>237</td>\n",
              "      <td>магазин</td>\n",
              "      <td>137</td>\n",
              "      <td>Другие</td>\n",
              "      <td>7 417</td>\n",
              "      <td>31</td>\n",
              "      <td>жилой дом</td>\n",
              "      <td>239,2580645</td>\n",
              "    </tr>\n",
              "    <tr>\n",
              "      <th>2</th>\n",
              "      <td>253</td>\n",
              "      <td>супермаркет</td>\n",
              "      <td>203</td>\n",
              "      <td>Ароматный мир</td>\n",
              "      <td>11 760</td>\n",
              "      <td>31</td>\n",
              "      <td>жилой дом</td>\n",
              "      <td>379,3548387</td>\n",
              "    </tr>\n",
              "    <tr>\n",
              "      <th>3</th>\n",
              "      <td>23</td>\n",
              "      <td>магазин</td>\n",
              "      <td>216</td>\n",
              "      <td>Другие</td>\n",
              "      <td>6 216</td>\n",
              "      <td>33</td>\n",
              "      <td>жилой дом</td>\n",
              "      <td>188,3636364</td>\n",
              "    </tr>\n",
              "    <tr>\n",
              "      <th>4</th>\n",
              "      <td>96</td>\n",
              "      <td>магазин</td>\n",
              "      <td>229</td>\n",
              "      <td>Другие</td>\n",
              "      <td>6 002</td>\n",
              "      <td>30</td>\n",
              "      <td>жилой дом</td>\n",
              "      <td>200,0666667</td>\n",
              "    </tr>\n",
              "  </tbody>\n",
              "</table>\n",
              "</div>\n",
              "      <button class=\"colab-df-convert\" onclick=\"convertToInteractive('df-c50faf16-0f3d-40b3-bce0-e2795f0f43a0')\"\n",
              "              title=\"Convert this dataframe to an interactive table.\"\n",
              "              style=\"display:none;\">\n",
              "        \n",
              "  <svg xmlns=\"http://www.w3.org/2000/svg\" height=\"24px\"viewBox=\"0 0 24 24\"\n",
              "       width=\"24px\">\n",
              "    <path d=\"M0 0h24v24H0V0z\" fill=\"none\"/>\n",
              "    <path d=\"M18.56 5.44l.94 2.06.94-2.06 2.06-.94-2.06-.94-.94-2.06-.94 2.06-2.06.94zm-11 1L8.5 8.5l.94-2.06 2.06-.94-2.06-.94L8.5 2.5l-.94 2.06-2.06.94zm10 10l.94 2.06.94-2.06 2.06-.94-2.06-.94-.94-2.06-.94 2.06-2.06.94z\"/><path d=\"M17.41 7.96l-1.37-1.37c-.4-.4-.92-.59-1.43-.59-.52 0-1.04.2-1.43.59L10.3 9.45l-7.72 7.72c-.78.78-.78 2.05 0 2.83L4 21.41c.39.39.9.59 1.41.59.51 0 1.02-.2 1.41-.59l7.78-7.78 2.81-2.81c.8-.78.8-2.07 0-2.86zM5.41 20L4 18.59l7.72-7.72 1.47 1.35L5.41 20z\"/>\n",
              "  </svg>\n",
              "      </button>\n",
              "      \n",
              "  <style>\n",
              "    .colab-df-container {\n",
              "      display:flex;\n",
              "      flex-wrap:wrap;\n",
              "      gap: 12px;\n",
              "    }\n",
              "\n",
              "    .colab-df-convert {\n",
              "      background-color: #E8F0FE;\n",
              "      border: none;\n",
              "      border-radius: 50%;\n",
              "      cursor: pointer;\n",
              "      display: none;\n",
              "      fill: #1967D2;\n",
              "      height: 32px;\n",
              "      padding: 0 0 0 0;\n",
              "      width: 32px;\n",
              "    }\n",
              "\n",
              "    .colab-df-convert:hover {\n",
              "      background-color: #E2EBFA;\n",
              "      box-shadow: 0px 1px 2px rgba(60, 64, 67, 0.3), 0px 1px 3px 1px rgba(60, 64, 67, 0.15);\n",
              "      fill: #174EA6;\n",
              "    }\n",
              "\n",
              "    [theme=dark] .colab-df-convert {\n",
              "      background-color: #3B4455;\n",
              "      fill: #D2E3FC;\n",
              "    }\n",
              "\n",
              "    [theme=dark] .colab-df-convert:hover {\n",
              "      background-color: #434B5C;\n",
              "      box-shadow: 0px 1px 3px 1px rgba(0, 0, 0, 0.15);\n",
              "      filter: drop-shadow(0px 1px 2px rgba(0, 0, 0, 0.3));\n",
              "      fill: #FFFFFF;\n",
              "    }\n",
              "  </style>\n",
              "\n",
              "      <script>\n",
              "        const buttonEl =\n",
              "          document.querySelector('#df-c50faf16-0f3d-40b3-bce0-e2795f0f43a0 button.colab-df-convert');\n",
              "        buttonEl.style.display =\n",
              "          google.colab.kernel.accessAllowed ? 'block' : 'none';\n",
              "\n",
              "        async function convertToInteractive(key) {\n",
              "          const element = document.querySelector('#df-c50faf16-0f3d-40b3-bce0-e2795f0f43a0');\n",
              "          const dataTable =\n",
              "            await google.colab.kernel.invokeFunction('convertToInteractive',\n",
              "                                                     [key], {});\n",
              "          if (!dataTable) return;\n",
              "\n",
              "          const docLinkHtml = 'Like what you see? Visit the ' +\n",
              "            '<a target=\"_blank\" href=https://colab.research.google.com/notebooks/data_table.ipynb>data table notebook</a>'\n",
              "            + ' to learn more about interactive tables.';\n",
              "          element.innerHTML = '';\n",
              "          dataTable['output_type'] = 'display_data';\n",
              "          await google.colab.output.renderOutput(dataTable, element);\n",
              "          const docLink = document.createElement('div');\n",
              "          docLink.innerHTML = docLinkHtml;\n",
              "          element.appendChild(docLink);\n",
              "        }\n",
              "      </script>\n",
              "    </div>\n",
              "  </div>\n",
              "  "
            ]
          },
          "metadata": {},
          "execution_count": 4
        }
      ]
    },
    {
      "cell_type": "markdown",
      "source": [
        "### Узнаем размер датасета."
      ],
      "metadata": {
        "id": "RVT3P7qenh-4"
      }
    },
    {
      "cell_type": "code",
      "source": [
        "cntstr = main_data.shape[0]\n",
        "print(cntstr)"
      ],
      "metadata": {
        "id": "tuGlK7hGpm1h",
        "colab": {
          "base_uri": "https://localhost:8080/"
        },
        "outputId": "b850c654-6362-43b1-bea7-df41028631c5"
      },
      "execution_count": null,
      "outputs": [
        {
          "output_type": "stream",
          "name": "stdout",
          "text": [
            "134\n"
          ]
        }
      ]
    },
    {
      "cell_type": "markdown",
      "source": [
        "### Сопоставление номера магазина в таблице и его уникального ID, к которому привязан адрес."
      ],
      "metadata": {
        "id": "6KDf03qpnnA9"
      }
    },
    {
      "cell_type": "code",
      "source": [
        "id = []\n",
        "for i in range(cntstr):\n",
        "  for j in range(229):\n",
        "    if (main_data['Num'][i] == market_address_ids[j][0]):\n",
        "      id.append(market_address_ids[j][1])\n",
        "      break\n",
        "    j += 1\n",
        "  i += 1\n",
        "print(id)\n",
        "print(len(id))"
      ],
      "metadata": {
        "colab": {
          "base_uri": "https://localhost:8080/"
        },
        "id": "5BXUUsO_671n",
        "outputId": "a69b9f8d-5fe1-44cd-e775-e2846042eeac"
      },
      "execution_count": null,
      "outputs": [
        {
          "output_type": "stream",
          "name": "stdout",
          "text": [
            "[1, 118, 191, 23, 87, 122, 2, 6, 10, 26, 107, 233, 128, 133, 182, 108, 159, 185, 232, 167, 220, 235, 242, 119, 42, 176, 249, 250, 309, 84, 84, 84, 140, 79, 91, 237, 243, 30, 100, 54, 59, 44, 68, 202, 94, 145, 105, 56, 260, 283, 138, 200, 201, 216, 229, 109, 111, 126, 257, 258, 270, 168, 318, 117, 155, 304, 117, 37, 69, 188, 5, 12, 73, 268, 206, 147, 275, 115, 91, 221, 222, 224, 152, 152, 161, 89, 269, 61, 58, 67, 101, 114, 151, 114, 27, 43, 203, 120, 251, 297, 3, 98, 94, 137, 219, 36, 183, 256, 277, 192, 291, 38, 196, 234, 204, 34, 252, 265, 266, 148, 85, 232, 112, 280, 281, 284, 290, 298, 300, 230, 85, 306, 315, 150]\n",
            "134\n"
          ]
        }
      ]
    },
    {
      "cell_type": "code",
      "source": [
        "main_data.insert(1, 'ID', id)\n",
        "main_data.head()"
      ],
      "metadata": {
        "colab": {
          "base_uri": "https://localhost:8080/",
          "height": 206
        },
        "id": "T0ms1b-z6ePG",
        "outputId": "61a521b0-f8da-4756-f7c0-8b7f9fc7fd41"
      },
      "execution_count": null,
      "outputs": [
        {
          "output_type": "execute_result",
          "data": {
            "text/plain": [
              "   Num   ID         Type Square           Name   Freqs  Period  \\\n",
              "0    1    1  супермаркет    664      Пятерочка  24 945      28   \n",
              "1  237  118      магазин    137         Другие   7 417      31   \n",
              "2  253  191  супермаркет    203  Ароматный мир  11 760      31   \n",
              "3   23   23      магазин    216         Другие   6 216      33   \n",
              "4   96   87      магазин    229         Другие   6 002      30   \n",
              "\n",
              "           Building          FPD  \n",
              "0  отдельное здание  890,8928571  \n",
              "1         жилой дом  239,2580645  \n",
              "2         жилой дом  379,3548387  \n",
              "3         жилой дом  188,3636364  \n",
              "4         жилой дом  200,0666667  "
            ],
            "text/html": [
              "\n",
              "  <div id=\"df-10ce962a-d726-47f0-aa7b-d150df607ab5\">\n",
              "    <div class=\"colab-df-container\">\n",
              "      <div>\n",
              "<style scoped>\n",
              "    .dataframe tbody tr th:only-of-type {\n",
              "        vertical-align: middle;\n",
              "    }\n",
              "\n",
              "    .dataframe tbody tr th {\n",
              "        vertical-align: top;\n",
              "    }\n",
              "\n",
              "    .dataframe thead th {\n",
              "        text-align: right;\n",
              "    }\n",
              "</style>\n",
              "<table border=\"1\" class=\"dataframe\">\n",
              "  <thead>\n",
              "    <tr style=\"text-align: right;\">\n",
              "      <th></th>\n",
              "      <th>Num</th>\n",
              "      <th>ID</th>\n",
              "      <th>Type</th>\n",
              "      <th>Square</th>\n",
              "      <th>Name</th>\n",
              "      <th>Freqs</th>\n",
              "      <th>Period</th>\n",
              "      <th>Building</th>\n",
              "      <th>FPD</th>\n",
              "    </tr>\n",
              "  </thead>\n",
              "  <tbody>\n",
              "    <tr>\n",
              "      <th>0</th>\n",
              "      <td>1</td>\n",
              "      <td>1</td>\n",
              "      <td>супермаркет</td>\n",
              "      <td>664</td>\n",
              "      <td>Пятерочка</td>\n",
              "      <td>24 945</td>\n",
              "      <td>28</td>\n",
              "      <td>отдельное здание</td>\n",
              "      <td>890,8928571</td>\n",
              "    </tr>\n",
              "    <tr>\n",
              "      <th>1</th>\n",
              "      <td>237</td>\n",
              "      <td>118</td>\n",
              "      <td>магазин</td>\n",
              "      <td>137</td>\n",
              "      <td>Другие</td>\n",
              "      <td>7 417</td>\n",
              "      <td>31</td>\n",
              "      <td>жилой дом</td>\n",
              "      <td>239,2580645</td>\n",
              "    </tr>\n",
              "    <tr>\n",
              "      <th>2</th>\n",
              "      <td>253</td>\n",
              "      <td>191</td>\n",
              "      <td>супермаркет</td>\n",
              "      <td>203</td>\n",
              "      <td>Ароматный мир</td>\n",
              "      <td>11 760</td>\n",
              "      <td>31</td>\n",
              "      <td>жилой дом</td>\n",
              "      <td>379,3548387</td>\n",
              "    </tr>\n",
              "    <tr>\n",
              "      <th>3</th>\n",
              "      <td>23</td>\n",
              "      <td>23</td>\n",
              "      <td>магазин</td>\n",
              "      <td>216</td>\n",
              "      <td>Другие</td>\n",
              "      <td>6 216</td>\n",
              "      <td>33</td>\n",
              "      <td>жилой дом</td>\n",
              "      <td>188,3636364</td>\n",
              "    </tr>\n",
              "    <tr>\n",
              "      <th>4</th>\n",
              "      <td>96</td>\n",
              "      <td>87</td>\n",
              "      <td>магазин</td>\n",
              "      <td>229</td>\n",
              "      <td>Другие</td>\n",
              "      <td>6 002</td>\n",
              "      <td>30</td>\n",
              "      <td>жилой дом</td>\n",
              "      <td>200,0666667</td>\n",
              "    </tr>\n",
              "  </tbody>\n",
              "</table>\n",
              "</div>\n",
              "      <button class=\"colab-df-convert\" onclick=\"convertToInteractive('df-10ce962a-d726-47f0-aa7b-d150df607ab5')\"\n",
              "              title=\"Convert this dataframe to an interactive table.\"\n",
              "              style=\"display:none;\">\n",
              "        \n",
              "  <svg xmlns=\"http://www.w3.org/2000/svg\" height=\"24px\"viewBox=\"0 0 24 24\"\n",
              "       width=\"24px\">\n",
              "    <path d=\"M0 0h24v24H0V0z\" fill=\"none\"/>\n",
              "    <path d=\"M18.56 5.44l.94 2.06.94-2.06 2.06-.94-2.06-.94-.94-2.06-.94 2.06-2.06.94zm-11 1L8.5 8.5l.94-2.06 2.06-.94-2.06-.94L8.5 2.5l-.94 2.06-2.06.94zm10 10l.94 2.06.94-2.06 2.06-.94-2.06-.94-.94-2.06-.94 2.06-2.06.94z\"/><path d=\"M17.41 7.96l-1.37-1.37c-.4-.4-.92-.59-1.43-.59-.52 0-1.04.2-1.43.59L10.3 9.45l-7.72 7.72c-.78.78-.78 2.05 0 2.83L4 21.41c.39.39.9.59 1.41.59.51 0 1.02-.2 1.41-.59l7.78-7.78 2.81-2.81c.8-.78.8-2.07 0-2.86zM5.41 20L4 18.59l7.72-7.72 1.47 1.35L5.41 20z\"/>\n",
              "  </svg>\n",
              "      </button>\n",
              "      \n",
              "  <style>\n",
              "    .colab-df-container {\n",
              "      display:flex;\n",
              "      flex-wrap:wrap;\n",
              "      gap: 12px;\n",
              "    }\n",
              "\n",
              "    .colab-df-convert {\n",
              "      background-color: #E8F0FE;\n",
              "      border: none;\n",
              "      border-radius: 50%;\n",
              "      cursor: pointer;\n",
              "      display: none;\n",
              "      fill: #1967D2;\n",
              "      height: 32px;\n",
              "      padding: 0 0 0 0;\n",
              "      width: 32px;\n",
              "    }\n",
              "\n",
              "    .colab-df-convert:hover {\n",
              "      background-color: #E2EBFA;\n",
              "      box-shadow: 0px 1px 2px rgba(60, 64, 67, 0.3), 0px 1px 3px 1px rgba(60, 64, 67, 0.15);\n",
              "      fill: #174EA6;\n",
              "    }\n",
              "\n",
              "    [theme=dark] .colab-df-convert {\n",
              "      background-color: #3B4455;\n",
              "      fill: #D2E3FC;\n",
              "    }\n",
              "\n",
              "    [theme=dark] .colab-df-convert:hover {\n",
              "      background-color: #434B5C;\n",
              "      box-shadow: 0px 1px 3px 1px rgba(0, 0, 0, 0.15);\n",
              "      filter: drop-shadow(0px 1px 2px rgba(0, 0, 0, 0.3));\n",
              "      fill: #FFFFFF;\n",
              "    }\n",
              "  </style>\n",
              "\n",
              "      <script>\n",
              "        const buttonEl =\n",
              "          document.querySelector('#df-10ce962a-d726-47f0-aa7b-d150df607ab5 button.colab-df-convert');\n",
              "        buttonEl.style.display =\n",
              "          google.colab.kernel.accessAllowed ? 'block' : 'none';\n",
              "\n",
              "        async function convertToInteractive(key) {\n",
              "          const element = document.querySelector('#df-10ce962a-d726-47f0-aa7b-d150df607ab5');\n",
              "          const dataTable =\n",
              "            await google.colab.kernel.invokeFunction('convertToInteractive',\n",
              "                                                     [key], {});\n",
              "          if (!dataTable) return;\n",
              "\n",
              "          const docLinkHtml = 'Like what you see? Visit the ' +\n",
              "            '<a target=\"_blank\" href=https://colab.research.google.com/notebooks/data_table.ipynb>data table notebook</a>'\n",
              "            + ' to learn more about interactive tables.';\n",
              "          element.innerHTML = '';\n",
              "          dataTable['output_type'] = 'display_data';\n",
              "          await google.colab.output.renderOutput(dataTable, element);\n",
              "          const docLink = document.createElement('div');\n",
              "          docLink.innerHTML = docLinkHtml;\n",
              "          element.appendChild(docLink);\n",
              "        }\n",
              "      </script>\n",
              "    </div>\n",
              "  </div>\n",
              "  "
            ]
          },
          "metadata": {},
          "execution_count": 7
        }
      ]
    },
    {
      "cell_type": "markdown",
      "source": [
        "### Считываем информацию о времени в пути от каждого из магазинов до каждого из районов."
      ],
      "metadata": {
        "id": "o2CWFvzSnx5n"
      }
    },
    {
      "cell_type": "code",
      "source": [
        "dists = pd.read_csv('./fixed_dist.csv')\n",
        "dists.head()"
      ],
      "metadata": {
        "colab": {
          "base_uri": "https://localhost:8080/",
          "height": 300
        },
        "id": "ux4RbIuI-ll0",
        "outputId": "6355283d-def0-4cb1-b1b6-746f6015fc9c"
      },
      "execution_count": null,
      "outputs": [
        {
          "output_type": "execute_result",
          "data": {
            "text/plain": [
              "   District  Population       Store1       Store2       Store3       Store4  \\\n",
              "0         1         646  28,05127469  40,54699233  39,86133175  29,96589644   \n",
              "1         2        1562  24,53101023  36,51983572  38,76202941  25,93873983   \n",
              "2         3         333  20,18574414  23,90631289  34,28788331  14,26139268   \n",
              "3         4        1984  11,75641437  19,64331217  26,31888014   8,41871025   \n",
              "4         5        2007  13,89782815  14,75511342  23,47769306  3,444759625   \n",
              "\n",
              "        Store5       Store6       Store7       Store8  ...     Store309  \\\n",
              "0  29,08400242  35,20199631  32,16069402  30,76793155  ...  37,15582635   \n",
              "1  26,49269262  33,65528252  28,13353742  26,74077495  ...  36,05652401   \n",
              "2  19,63058031  23,32137173  17,35291896  15,98574574  ...  32,56289287   \n",
              "3  11,22391948  17,20739571  11,30508437  9,912321898  ...   24,1335631   \n",
              "4  13,34266433  12,50473867  6,557232515  5,169112684  ...  26,27497689   \n",
              "\n",
              "      Store310     Store311     Store312     Store313     Store314  \\\n",
              "0  12,52727614  31,92653471  8,757369081  20,04190608  3,463823592   \n",
              "1  18,29523877  37,17121656  10,29062559  23,30607539  8,138245136   \n",
              "2  44,25954175  62,11198903  32,39767337   45,3715918  36,53470906   \n",
              "3   36,3457885  53,68265926  28,81623836  36,94226203  28,82847446   \n",
              "4  38,48720229  55,82407304   33,5081258  39,08367582  31,46759986   \n",
              "\n",
              "      Store315     Store316     Store317     Store318  \n",
              "0  15,86386368  31,81204067  22,17310407  22,17310407  \n",
              "1  17,32035857  37,58000329  23,72590979  23,72590979  \n",
              "2  39,33686203  62,90653109  45,30680316  45,30680316  \n",
              "3  35,75542701  54,47720132  36,87747339  36,87747339  \n",
              "4  40,44731446  56,61861511  39,01888717  39,01888717  \n",
              "\n",
              "[5 rows x 320 columns]"
            ],
            "text/html": [
              "\n",
              "  <div id=\"df-89a67c48-a0b8-4448-ba40-19bfd96c33d9\">\n",
              "    <div class=\"colab-df-container\">\n",
              "      <div>\n",
              "<style scoped>\n",
              "    .dataframe tbody tr th:only-of-type {\n",
              "        vertical-align: middle;\n",
              "    }\n",
              "\n",
              "    .dataframe tbody tr th {\n",
              "        vertical-align: top;\n",
              "    }\n",
              "\n",
              "    .dataframe thead th {\n",
              "        text-align: right;\n",
              "    }\n",
              "</style>\n",
              "<table border=\"1\" class=\"dataframe\">\n",
              "  <thead>\n",
              "    <tr style=\"text-align: right;\">\n",
              "      <th></th>\n",
              "      <th>District</th>\n",
              "      <th>Population</th>\n",
              "      <th>Store1</th>\n",
              "      <th>Store2</th>\n",
              "      <th>Store3</th>\n",
              "      <th>Store4</th>\n",
              "      <th>Store5</th>\n",
              "      <th>Store6</th>\n",
              "      <th>Store7</th>\n",
              "      <th>Store8</th>\n",
              "      <th>...</th>\n",
              "      <th>Store309</th>\n",
              "      <th>Store310</th>\n",
              "      <th>Store311</th>\n",
              "      <th>Store312</th>\n",
              "      <th>Store313</th>\n",
              "      <th>Store314</th>\n",
              "      <th>Store315</th>\n",
              "      <th>Store316</th>\n",
              "      <th>Store317</th>\n",
              "      <th>Store318</th>\n",
              "    </tr>\n",
              "  </thead>\n",
              "  <tbody>\n",
              "    <tr>\n",
              "      <th>0</th>\n",
              "      <td>1</td>\n",
              "      <td>646</td>\n",
              "      <td>28,05127469</td>\n",
              "      <td>40,54699233</td>\n",
              "      <td>39,86133175</td>\n",
              "      <td>29,96589644</td>\n",
              "      <td>29,08400242</td>\n",
              "      <td>35,20199631</td>\n",
              "      <td>32,16069402</td>\n",
              "      <td>30,76793155</td>\n",
              "      <td>...</td>\n",
              "      <td>37,15582635</td>\n",
              "      <td>12,52727614</td>\n",
              "      <td>31,92653471</td>\n",
              "      <td>8,757369081</td>\n",
              "      <td>20,04190608</td>\n",
              "      <td>3,463823592</td>\n",
              "      <td>15,86386368</td>\n",
              "      <td>31,81204067</td>\n",
              "      <td>22,17310407</td>\n",
              "      <td>22,17310407</td>\n",
              "    </tr>\n",
              "    <tr>\n",
              "      <th>1</th>\n",
              "      <td>2</td>\n",
              "      <td>1562</td>\n",
              "      <td>24,53101023</td>\n",
              "      <td>36,51983572</td>\n",
              "      <td>38,76202941</td>\n",
              "      <td>25,93873983</td>\n",
              "      <td>26,49269262</td>\n",
              "      <td>33,65528252</td>\n",
              "      <td>28,13353742</td>\n",
              "      <td>26,74077495</td>\n",
              "      <td>...</td>\n",
              "      <td>36,05652401</td>\n",
              "      <td>18,29523877</td>\n",
              "      <td>37,17121656</td>\n",
              "      <td>10,29062559</td>\n",
              "      <td>23,30607539</td>\n",
              "      <td>8,138245136</td>\n",
              "      <td>17,32035857</td>\n",
              "      <td>37,58000329</td>\n",
              "      <td>23,72590979</td>\n",
              "      <td>23,72590979</td>\n",
              "    </tr>\n",
              "    <tr>\n",
              "      <th>2</th>\n",
              "      <td>3</td>\n",
              "      <td>333</td>\n",
              "      <td>20,18574414</td>\n",
              "      <td>23,90631289</td>\n",
              "      <td>34,28788331</td>\n",
              "      <td>14,26139268</td>\n",
              "      <td>19,63058031</td>\n",
              "      <td>23,32137173</td>\n",
              "      <td>17,35291896</td>\n",
              "      <td>15,98574574</td>\n",
              "      <td>...</td>\n",
              "      <td>32,56289287</td>\n",
              "      <td>44,25954175</td>\n",
              "      <td>62,11198903</td>\n",
              "      <td>32,39767337</td>\n",
              "      <td>45,3715918</td>\n",
              "      <td>36,53470906</td>\n",
              "      <td>39,33686203</td>\n",
              "      <td>62,90653109</td>\n",
              "      <td>45,30680316</td>\n",
              "      <td>45,30680316</td>\n",
              "    </tr>\n",
              "    <tr>\n",
              "      <th>3</th>\n",
              "      <td>4</td>\n",
              "      <td>1984</td>\n",
              "      <td>11,75641437</td>\n",
              "      <td>19,64331217</td>\n",
              "      <td>26,31888014</td>\n",
              "      <td>8,41871025</td>\n",
              "      <td>11,22391948</td>\n",
              "      <td>17,20739571</td>\n",
              "      <td>11,30508437</td>\n",
              "      <td>9,912321898</td>\n",
              "      <td>...</td>\n",
              "      <td>24,1335631</td>\n",
              "      <td>36,3457885</td>\n",
              "      <td>53,68265926</td>\n",
              "      <td>28,81623836</td>\n",
              "      <td>36,94226203</td>\n",
              "      <td>28,82847446</td>\n",
              "      <td>35,75542701</td>\n",
              "      <td>54,47720132</td>\n",
              "      <td>36,87747339</td>\n",
              "      <td>36,87747339</td>\n",
              "    </tr>\n",
              "    <tr>\n",
              "      <th>4</th>\n",
              "      <td>5</td>\n",
              "      <td>2007</td>\n",
              "      <td>13,89782815</td>\n",
              "      <td>14,75511342</td>\n",
              "      <td>23,47769306</td>\n",
              "      <td>3,444759625</td>\n",
              "      <td>13,34266433</td>\n",
              "      <td>12,50473867</td>\n",
              "      <td>6,557232515</td>\n",
              "      <td>5,169112684</td>\n",
              "      <td>...</td>\n",
              "      <td>26,27497689</td>\n",
              "      <td>38,48720229</td>\n",
              "      <td>55,82407304</td>\n",
              "      <td>33,5081258</td>\n",
              "      <td>39,08367582</td>\n",
              "      <td>31,46759986</td>\n",
              "      <td>40,44731446</td>\n",
              "      <td>56,61861511</td>\n",
              "      <td>39,01888717</td>\n",
              "      <td>39,01888717</td>\n",
              "    </tr>\n",
              "  </tbody>\n",
              "</table>\n",
              "<p>5 rows × 320 columns</p>\n",
              "</div>\n",
              "      <button class=\"colab-df-convert\" onclick=\"convertToInteractive('df-89a67c48-a0b8-4448-ba40-19bfd96c33d9')\"\n",
              "              title=\"Convert this dataframe to an interactive table.\"\n",
              "              style=\"display:none;\">\n",
              "        \n",
              "  <svg xmlns=\"http://www.w3.org/2000/svg\" height=\"24px\"viewBox=\"0 0 24 24\"\n",
              "       width=\"24px\">\n",
              "    <path d=\"M0 0h24v24H0V0z\" fill=\"none\"/>\n",
              "    <path d=\"M18.56 5.44l.94 2.06.94-2.06 2.06-.94-2.06-.94-.94-2.06-.94 2.06-2.06.94zm-11 1L8.5 8.5l.94-2.06 2.06-.94-2.06-.94L8.5 2.5l-.94 2.06-2.06.94zm10 10l.94 2.06.94-2.06 2.06-.94-2.06-.94-.94-2.06-.94 2.06-2.06.94z\"/><path d=\"M17.41 7.96l-1.37-1.37c-.4-.4-.92-.59-1.43-.59-.52 0-1.04.2-1.43.59L10.3 9.45l-7.72 7.72c-.78.78-.78 2.05 0 2.83L4 21.41c.39.39.9.59 1.41.59.51 0 1.02-.2 1.41-.59l7.78-7.78 2.81-2.81c.8-.78.8-2.07 0-2.86zM5.41 20L4 18.59l7.72-7.72 1.47 1.35L5.41 20z\"/>\n",
              "  </svg>\n",
              "      </button>\n",
              "      \n",
              "  <style>\n",
              "    .colab-df-container {\n",
              "      display:flex;\n",
              "      flex-wrap:wrap;\n",
              "      gap: 12px;\n",
              "    }\n",
              "\n",
              "    .colab-df-convert {\n",
              "      background-color: #E8F0FE;\n",
              "      border: none;\n",
              "      border-radius: 50%;\n",
              "      cursor: pointer;\n",
              "      display: none;\n",
              "      fill: #1967D2;\n",
              "      height: 32px;\n",
              "      padding: 0 0 0 0;\n",
              "      width: 32px;\n",
              "    }\n",
              "\n",
              "    .colab-df-convert:hover {\n",
              "      background-color: #E2EBFA;\n",
              "      box-shadow: 0px 1px 2px rgba(60, 64, 67, 0.3), 0px 1px 3px 1px rgba(60, 64, 67, 0.15);\n",
              "      fill: #174EA6;\n",
              "    }\n",
              "\n",
              "    [theme=dark] .colab-df-convert {\n",
              "      background-color: #3B4455;\n",
              "      fill: #D2E3FC;\n",
              "    }\n",
              "\n",
              "    [theme=dark] .colab-df-convert:hover {\n",
              "      background-color: #434B5C;\n",
              "      box-shadow: 0px 1px 3px 1px rgba(0, 0, 0, 0.15);\n",
              "      filter: drop-shadow(0px 1px 2px rgba(0, 0, 0, 0.3));\n",
              "      fill: #FFFFFF;\n",
              "    }\n",
              "  </style>\n",
              "\n",
              "      <script>\n",
              "        const buttonEl =\n",
              "          document.querySelector('#df-89a67c48-a0b8-4448-ba40-19bfd96c33d9 button.colab-df-convert');\n",
              "        buttonEl.style.display =\n",
              "          google.colab.kernel.accessAllowed ? 'block' : 'none';\n",
              "\n",
              "        async function convertToInteractive(key) {\n",
              "          const element = document.querySelector('#df-89a67c48-a0b8-4448-ba40-19bfd96c33d9');\n",
              "          const dataTable =\n",
              "            await google.colab.kernel.invokeFunction('convertToInteractive',\n",
              "                                                     [key], {});\n",
              "          if (!dataTable) return;\n",
              "\n",
              "          const docLinkHtml = 'Like what you see? Visit the ' +\n",
              "            '<a target=\"_blank\" href=https://colab.research.google.com/notebooks/data_table.ipynb>data table notebook</a>'\n",
              "            + ' to learn more about interactive tables.';\n",
              "          element.innerHTML = '';\n",
              "          dataTable['output_type'] = 'display_data';\n",
              "          await google.colab.output.renderOutput(dataTable, element);\n",
              "          const docLink = document.createElement('div');\n",
              "          docLink.innerHTML = docLinkHtml;\n",
              "          element.appendChild(docLink);\n",
              "        }\n",
              "      </script>\n",
              "    </div>\n",
              "  </div>\n",
              "  "
            ]
          },
          "metadata": {},
          "execution_count": 8
        }
      ]
    },
    {
      "cell_type": "markdown",
      "source": [
        "### Создадим вспомогательные функции для расчета по формуле Хаффа и обработки ошибок в данных"
      ],
      "metadata": {
        "id": "y7dqsKS5_MBR"
      }
    },
    {
      "cell_type": "code",
      "source": [
        "def to_flt(s):\n",
        "  if type(s) != type('help'):\n",
        "    return s\n",
        "  s = s.replace(' ', '')\n",
        "  s = s.replace('\\xa0', '')\n",
        "  s = s.split(',')\n",
        "  s = '.'.join(s)\n",
        "  return float(s)\n",
        "\n",
        "def prob_counter(alp, lamb, i, j): # i - номер района, j - номер магазина (порядковый, не ID !!!)\n",
        "  sum = 0\n",
        "  for v in range(cntstr):\n",
        "    distutil = to_flt((dists[ ('Store' + str(main_data['ID'][v]) )][i - 1]))\n",
        "    sum += to_flt(main_data['Square'][v])**alp / (distutil if distutil < 25 else distutil/5)**lamb\n",
        "  distutil = to_flt((dists[ ('Store' + str(main_data['ID'][j - 1]) )][i - 1]))\n",
        "  return (dists['Population'][i - 1]) * to_flt(main_data['Square'][j - 1])**alp / (distutil if distutil < 25 else distutil/5)**lamb / sum\n"
      ],
      "metadata": {
        "id": "FXm0xK_X_57m"
      },
      "execution_count": null,
      "outputs": []
    },
    {
      "cell_type": "markdown",
      "source": [
        "### Добавляем в основные данные столбец с предполагаемой посещаемостью (по Хаффу)."
      ],
      "metadata": {
        "id": "6GujOEdEn-Hu"
      }
    },
    {
      "cell_type": "code",
      "source": [
        "main_data.insert(7, 'Huff_predict', list(i for i in range(cntstr)))\n",
        "main_data.head()"
      ],
      "metadata": {
        "colab": {
          "base_uri": "https://localhost:8080/",
          "height": 206
        },
        "id": "lCCA_AXsXymY",
        "outputId": "67eec3dd-ede5-424f-dcea-066ac65ffbd3"
      },
      "execution_count": null,
      "outputs": [
        {
          "output_type": "execute_result",
          "data": {
            "text/plain": [
              "   Num   ID         Type Square           Name   Freqs  Period  Huff_predict  \\\n",
              "0    1    1  супермаркет    664      Пятерочка  24 945      28             0   \n",
              "1  237  118      магазин    137         Другие   7 417      31             1   \n",
              "2  253  191  супермаркет    203  Ароматный мир  11 760      31             2   \n",
              "3   23   23      магазин    216         Другие   6 216      33             3   \n",
              "4   96   87      магазин    229         Другие   6 002      30             4   \n",
              "\n",
              "           Building          FPD  \n",
              "0  отдельное здание  890,8928571  \n",
              "1         жилой дом  239,2580645  \n",
              "2         жилой дом  379,3548387  \n",
              "3         жилой дом  188,3636364  \n",
              "4         жилой дом  200,0666667  "
            ],
            "text/html": [
              "\n",
              "  <div id=\"df-e8777ffa-5b92-40ea-a589-e8e7aae778e5\">\n",
              "    <div class=\"colab-df-container\">\n",
              "      <div>\n",
              "<style scoped>\n",
              "    .dataframe tbody tr th:only-of-type {\n",
              "        vertical-align: middle;\n",
              "    }\n",
              "\n",
              "    .dataframe tbody tr th {\n",
              "        vertical-align: top;\n",
              "    }\n",
              "\n",
              "    .dataframe thead th {\n",
              "        text-align: right;\n",
              "    }\n",
              "</style>\n",
              "<table border=\"1\" class=\"dataframe\">\n",
              "  <thead>\n",
              "    <tr style=\"text-align: right;\">\n",
              "      <th></th>\n",
              "      <th>Num</th>\n",
              "      <th>ID</th>\n",
              "      <th>Type</th>\n",
              "      <th>Square</th>\n",
              "      <th>Name</th>\n",
              "      <th>Freqs</th>\n",
              "      <th>Period</th>\n",
              "      <th>Huff_predict</th>\n",
              "      <th>Building</th>\n",
              "      <th>FPD</th>\n",
              "    </tr>\n",
              "  </thead>\n",
              "  <tbody>\n",
              "    <tr>\n",
              "      <th>0</th>\n",
              "      <td>1</td>\n",
              "      <td>1</td>\n",
              "      <td>супермаркет</td>\n",
              "      <td>664</td>\n",
              "      <td>Пятерочка</td>\n",
              "      <td>24 945</td>\n",
              "      <td>28</td>\n",
              "      <td>0</td>\n",
              "      <td>отдельное здание</td>\n",
              "      <td>890,8928571</td>\n",
              "    </tr>\n",
              "    <tr>\n",
              "      <th>1</th>\n",
              "      <td>237</td>\n",
              "      <td>118</td>\n",
              "      <td>магазин</td>\n",
              "      <td>137</td>\n",
              "      <td>Другие</td>\n",
              "      <td>7 417</td>\n",
              "      <td>31</td>\n",
              "      <td>1</td>\n",
              "      <td>жилой дом</td>\n",
              "      <td>239,2580645</td>\n",
              "    </tr>\n",
              "    <tr>\n",
              "      <th>2</th>\n",
              "      <td>253</td>\n",
              "      <td>191</td>\n",
              "      <td>супермаркет</td>\n",
              "      <td>203</td>\n",
              "      <td>Ароматный мир</td>\n",
              "      <td>11 760</td>\n",
              "      <td>31</td>\n",
              "      <td>2</td>\n",
              "      <td>жилой дом</td>\n",
              "      <td>379,3548387</td>\n",
              "    </tr>\n",
              "    <tr>\n",
              "      <th>3</th>\n",
              "      <td>23</td>\n",
              "      <td>23</td>\n",
              "      <td>магазин</td>\n",
              "      <td>216</td>\n",
              "      <td>Другие</td>\n",
              "      <td>6 216</td>\n",
              "      <td>33</td>\n",
              "      <td>3</td>\n",
              "      <td>жилой дом</td>\n",
              "      <td>188,3636364</td>\n",
              "    </tr>\n",
              "    <tr>\n",
              "      <th>4</th>\n",
              "      <td>96</td>\n",
              "      <td>87</td>\n",
              "      <td>магазин</td>\n",
              "      <td>229</td>\n",
              "      <td>Другие</td>\n",
              "      <td>6 002</td>\n",
              "      <td>30</td>\n",
              "      <td>4</td>\n",
              "      <td>жилой дом</td>\n",
              "      <td>200,0666667</td>\n",
              "    </tr>\n",
              "  </tbody>\n",
              "</table>\n",
              "</div>\n",
              "      <button class=\"colab-df-convert\" onclick=\"convertToInteractive('df-e8777ffa-5b92-40ea-a589-e8e7aae778e5')\"\n",
              "              title=\"Convert this dataframe to an interactive table.\"\n",
              "              style=\"display:none;\">\n",
              "        \n",
              "  <svg xmlns=\"http://www.w3.org/2000/svg\" height=\"24px\"viewBox=\"0 0 24 24\"\n",
              "       width=\"24px\">\n",
              "    <path d=\"M0 0h24v24H0V0z\" fill=\"none\"/>\n",
              "    <path d=\"M18.56 5.44l.94 2.06.94-2.06 2.06-.94-2.06-.94-.94-2.06-.94 2.06-2.06.94zm-11 1L8.5 8.5l.94-2.06 2.06-.94-2.06-.94L8.5 2.5l-.94 2.06-2.06.94zm10 10l.94 2.06.94-2.06 2.06-.94-2.06-.94-.94-2.06-.94 2.06-2.06.94z\"/><path d=\"M17.41 7.96l-1.37-1.37c-.4-.4-.92-.59-1.43-.59-.52 0-1.04.2-1.43.59L10.3 9.45l-7.72 7.72c-.78.78-.78 2.05 0 2.83L4 21.41c.39.39.9.59 1.41.59.51 0 1.02-.2 1.41-.59l7.78-7.78 2.81-2.81c.8-.78.8-2.07 0-2.86zM5.41 20L4 18.59l7.72-7.72 1.47 1.35L5.41 20z\"/>\n",
              "  </svg>\n",
              "      </button>\n",
              "      \n",
              "  <style>\n",
              "    .colab-df-container {\n",
              "      display:flex;\n",
              "      flex-wrap:wrap;\n",
              "      gap: 12px;\n",
              "    }\n",
              "\n",
              "    .colab-df-convert {\n",
              "      background-color: #E8F0FE;\n",
              "      border: none;\n",
              "      border-radius: 50%;\n",
              "      cursor: pointer;\n",
              "      display: none;\n",
              "      fill: #1967D2;\n",
              "      height: 32px;\n",
              "      padding: 0 0 0 0;\n",
              "      width: 32px;\n",
              "    }\n",
              "\n",
              "    .colab-df-convert:hover {\n",
              "      background-color: #E2EBFA;\n",
              "      box-shadow: 0px 1px 2px rgba(60, 64, 67, 0.3), 0px 1px 3px 1px rgba(60, 64, 67, 0.15);\n",
              "      fill: #174EA6;\n",
              "    }\n",
              "\n",
              "    [theme=dark] .colab-df-convert {\n",
              "      background-color: #3B4455;\n",
              "      fill: #D2E3FC;\n",
              "    }\n",
              "\n",
              "    [theme=dark] .colab-df-convert:hover {\n",
              "      background-color: #434B5C;\n",
              "      box-shadow: 0px 1px 3px 1px rgba(0, 0, 0, 0.15);\n",
              "      filter: drop-shadow(0px 1px 2px rgba(0, 0, 0, 0.3));\n",
              "      fill: #FFFFFF;\n",
              "    }\n",
              "  </style>\n",
              "\n",
              "      <script>\n",
              "        const buttonEl =\n",
              "          document.querySelector('#df-e8777ffa-5b92-40ea-a589-e8e7aae778e5 button.colab-df-convert');\n",
              "        buttonEl.style.display =\n",
              "          google.colab.kernel.accessAllowed ? 'block' : 'none';\n",
              "\n",
              "        async function convertToInteractive(key) {\n",
              "          const element = document.querySelector('#df-e8777ffa-5b92-40ea-a589-e8e7aae778e5');\n",
              "          const dataTable =\n",
              "            await google.colab.kernel.invokeFunction('convertToInteractive',\n",
              "                                                     [key], {});\n",
              "          if (!dataTable) return;\n",
              "\n",
              "          const docLinkHtml = 'Like what you see? Visit the ' +\n",
              "            '<a target=\"_blank\" href=https://colab.research.google.com/notebooks/data_table.ipynb>data table notebook</a>'\n",
              "            + ' to learn more about interactive tables.';\n",
              "          element.innerHTML = '';\n",
              "          dataTable['output_type'] = 'display_data';\n",
              "          await google.colab.output.renderOutput(dataTable, element);\n",
              "          const docLink = document.createElement('div');\n",
              "          docLink.innerHTML = docLinkHtml;\n",
              "          element.appendChild(docLink);\n",
              "        }\n",
              "      </script>\n",
              "    </div>\n",
              "  </div>\n",
              "  "
            ]
          },
          "metadata": {},
          "execution_count": 10
        }
      ]
    },
    {
      "cell_type": "markdown",
      "source": [
        "### Создаем функцию для вычисления посещаемости по формуле Хаффа."
      ],
      "metadata": {
        "id": "VpdjgOpeoKGM"
      }
    },
    {
      "cell_type": "code",
      "source": [
        "def huff_predict(i, lamb, alp):\n",
        "  sum = 0\n",
        "  for j in range(112):\n",
        "    sum += prob_counter(alp, lamb, j + 1, i + 1)\n",
        "  return sum"
      ],
      "metadata": {
        "id": "XgLKZtSTYMDA"
      },
      "execution_count": null,
      "outputs": []
    },
    {
      "cell_type": "markdown",
      "source": [
        "### Разделяем столбцы."
      ],
      "metadata": {
        "id": "Tzzu9mGIoSX7"
      }
    },
    {
      "cell_type": "code",
      "source": [
        "cat_cols  = ['Type', 'Name', 'Building']\n",
        "num_cols = ['Square', 'Huff_predict']\n",
        "target_col = 'FPD'"
      ],
      "metadata": {
        "id": "sHaggT2WYw1G"
      },
      "execution_count": null,
      "outputs": []
    },
    {
      "cell_type": "markdown",
      "source": [
        "### Заполняем столбец в основном датасете подсчитанными по формуле Хаффа значениями предполагаемой посещаемости."
      ],
      "metadata": {
        "id": "A-MkMIGJoWf7"
      }
    },
    {
      "cell_type": "code",
      "source": [
        "lamb = 0.8\n",
        "alp = 1\n",
        "for i in range(cntstr):\n",
        "  main_data['Huff_predict'][i] = huff_predict(i, lamb, alp)\n",
        "  main_data['Square'][i] = to_flt(main_data['Square'][i]) \n",
        "main_data.head()"
      ],
      "metadata": {
        "colab": {
          "base_uri": "https://localhost:8080/",
          "height": 380
        },
        "id": "X_r-H9oU2v3-",
        "outputId": "de272bf3-07c7-419c-8760-aecb12623b70"
      },
      "execution_count": null,
      "outputs": [
        {
          "output_type": "stream",
          "name": "stderr",
          "text": [
            "<ipython-input-13-5f0c9b7eac86>:4: SettingWithCopyWarning: \n",
            "A value is trying to be set on a copy of a slice from a DataFrame\n",
            "\n",
            "See the caveats in the documentation: https://pandas.pydata.org/pandas-docs/stable/user_guide/indexing.html#returning-a-view-versus-a-copy\n",
            "  main_data['Huff_predict'][i] = huff_predict(i, lamb, alp)\n",
            "<ipython-input-13-5f0c9b7eac86>:5: SettingWithCopyWarning: \n",
            "A value is trying to be set on a copy of a slice from a DataFrame\n",
            "\n",
            "See the caveats in the documentation: https://pandas.pydata.org/pandas-docs/stable/user_guide/indexing.html#returning-a-view-versus-a-copy\n",
            "  main_data['Square'][i] = to_flt(main_data['Square'][i])\n"
          ]
        },
        {
          "output_type": "execute_result",
          "data": {
            "text/plain": [
              "   Num   ID         Type Square           Name   Freqs  Period  Huff_predict  \\\n",
              "0    1    1  супермаркет  664.0      Пятерочка  24 945      28   3507.421614   \n",
              "1  237  118      магазин  137.0         Другие   7 417      31    702.405165   \n",
              "2  253  191  супермаркет  203.0  Ароматный мир  11 760      31   1043.342291   \n",
              "3   23   23      магазин  216.0         Другие   6 216      33   1070.613756   \n",
              "4   96   87      магазин  229.0         Другие   6 002      30   1438.618229   \n",
              "\n",
              "           Building          FPD  \n",
              "0  отдельное здание  890,8928571  \n",
              "1         жилой дом  239,2580645  \n",
              "2         жилой дом  379,3548387  \n",
              "3         жилой дом  188,3636364  \n",
              "4         жилой дом  200,0666667  "
            ],
            "text/html": [
              "\n",
              "  <div id=\"df-fd9fc6ed-753b-4a1a-81ab-128ead307cc8\">\n",
              "    <div class=\"colab-df-container\">\n",
              "      <div>\n",
              "<style scoped>\n",
              "    .dataframe tbody tr th:only-of-type {\n",
              "        vertical-align: middle;\n",
              "    }\n",
              "\n",
              "    .dataframe tbody tr th {\n",
              "        vertical-align: top;\n",
              "    }\n",
              "\n",
              "    .dataframe thead th {\n",
              "        text-align: right;\n",
              "    }\n",
              "</style>\n",
              "<table border=\"1\" class=\"dataframe\">\n",
              "  <thead>\n",
              "    <tr style=\"text-align: right;\">\n",
              "      <th></th>\n",
              "      <th>Num</th>\n",
              "      <th>ID</th>\n",
              "      <th>Type</th>\n",
              "      <th>Square</th>\n",
              "      <th>Name</th>\n",
              "      <th>Freqs</th>\n",
              "      <th>Period</th>\n",
              "      <th>Huff_predict</th>\n",
              "      <th>Building</th>\n",
              "      <th>FPD</th>\n",
              "    </tr>\n",
              "  </thead>\n",
              "  <tbody>\n",
              "    <tr>\n",
              "      <th>0</th>\n",
              "      <td>1</td>\n",
              "      <td>1</td>\n",
              "      <td>супермаркет</td>\n",
              "      <td>664.0</td>\n",
              "      <td>Пятерочка</td>\n",
              "      <td>24 945</td>\n",
              "      <td>28</td>\n",
              "      <td>3507.421614</td>\n",
              "      <td>отдельное здание</td>\n",
              "      <td>890,8928571</td>\n",
              "    </tr>\n",
              "    <tr>\n",
              "      <th>1</th>\n",
              "      <td>237</td>\n",
              "      <td>118</td>\n",
              "      <td>магазин</td>\n",
              "      <td>137.0</td>\n",
              "      <td>Другие</td>\n",
              "      <td>7 417</td>\n",
              "      <td>31</td>\n",
              "      <td>702.405165</td>\n",
              "      <td>жилой дом</td>\n",
              "      <td>239,2580645</td>\n",
              "    </tr>\n",
              "    <tr>\n",
              "      <th>2</th>\n",
              "      <td>253</td>\n",
              "      <td>191</td>\n",
              "      <td>супермаркет</td>\n",
              "      <td>203.0</td>\n",
              "      <td>Ароматный мир</td>\n",
              "      <td>11 760</td>\n",
              "      <td>31</td>\n",
              "      <td>1043.342291</td>\n",
              "      <td>жилой дом</td>\n",
              "      <td>379,3548387</td>\n",
              "    </tr>\n",
              "    <tr>\n",
              "      <th>3</th>\n",
              "      <td>23</td>\n",
              "      <td>23</td>\n",
              "      <td>магазин</td>\n",
              "      <td>216.0</td>\n",
              "      <td>Другие</td>\n",
              "      <td>6 216</td>\n",
              "      <td>33</td>\n",
              "      <td>1070.613756</td>\n",
              "      <td>жилой дом</td>\n",
              "      <td>188,3636364</td>\n",
              "    </tr>\n",
              "    <tr>\n",
              "      <th>4</th>\n",
              "      <td>96</td>\n",
              "      <td>87</td>\n",
              "      <td>магазин</td>\n",
              "      <td>229.0</td>\n",
              "      <td>Другие</td>\n",
              "      <td>6 002</td>\n",
              "      <td>30</td>\n",
              "      <td>1438.618229</td>\n",
              "      <td>жилой дом</td>\n",
              "      <td>200,0666667</td>\n",
              "    </tr>\n",
              "  </tbody>\n",
              "</table>\n",
              "</div>\n",
              "      <button class=\"colab-df-convert\" onclick=\"convertToInteractive('df-fd9fc6ed-753b-4a1a-81ab-128ead307cc8')\"\n",
              "              title=\"Convert this dataframe to an interactive table.\"\n",
              "              style=\"display:none;\">\n",
              "        \n",
              "  <svg xmlns=\"http://www.w3.org/2000/svg\" height=\"24px\"viewBox=\"0 0 24 24\"\n",
              "       width=\"24px\">\n",
              "    <path d=\"M0 0h24v24H0V0z\" fill=\"none\"/>\n",
              "    <path d=\"M18.56 5.44l.94 2.06.94-2.06 2.06-.94-2.06-.94-.94-2.06-.94 2.06-2.06.94zm-11 1L8.5 8.5l.94-2.06 2.06-.94-2.06-.94L8.5 2.5l-.94 2.06-2.06.94zm10 10l.94 2.06.94-2.06 2.06-.94-2.06-.94-.94-2.06-.94 2.06-2.06.94z\"/><path d=\"M17.41 7.96l-1.37-1.37c-.4-.4-.92-.59-1.43-.59-.52 0-1.04.2-1.43.59L10.3 9.45l-7.72 7.72c-.78.78-.78 2.05 0 2.83L4 21.41c.39.39.9.59 1.41.59.51 0 1.02-.2 1.41-.59l7.78-7.78 2.81-2.81c.8-.78.8-2.07 0-2.86zM5.41 20L4 18.59l7.72-7.72 1.47 1.35L5.41 20z\"/>\n",
              "  </svg>\n",
              "      </button>\n",
              "      \n",
              "  <style>\n",
              "    .colab-df-container {\n",
              "      display:flex;\n",
              "      flex-wrap:wrap;\n",
              "      gap: 12px;\n",
              "    }\n",
              "\n",
              "    .colab-df-convert {\n",
              "      background-color: #E8F0FE;\n",
              "      border: none;\n",
              "      border-radius: 50%;\n",
              "      cursor: pointer;\n",
              "      display: none;\n",
              "      fill: #1967D2;\n",
              "      height: 32px;\n",
              "      padding: 0 0 0 0;\n",
              "      width: 32px;\n",
              "    }\n",
              "\n",
              "    .colab-df-convert:hover {\n",
              "      background-color: #E2EBFA;\n",
              "      box-shadow: 0px 1px 2px rgba(60, 64, 67, 0.3), 0px 1px 3px 1px rgba(60, 64, 67, 0.15);\n",
              "      fill: #174EA6;\n",
              "    }\n",
              "\n",
              "    [theme=dark] .colab-df-convert {\n",
              "      background-color: #3B4455;\n",
              "      fill: #D2E3FC;\n",
              "    }\n",
              "\n",
              "    [theme=dark] .colab-df-convert:hover {\n",
              "      background-color: #434B5C;\n",
              "      box-shadow: 0px 1px 3px 1px rgba(0, 0, 0, 0.15);\n",
              "      filter: drop-shadow(0px 1px 2px rgba(0, 0, 0, 0.3));\n",
              "      fill: #FFFFFF;\n",
              "    }\n",
              "  </style>\n",
              "\n",
              "      <script>\n",
              "        const buttonEl =\n",
              "          document.querySelector('#df-fd9fc6ed-753b-4a1a-81ab-128ead307cc8 button.colab-df-convert');\n",
              "        buttonEl.style.display =\n",
              "          google.colab.kernel.accessAllowed ? 'block' : 'none';\n",
              "\n",
              "        async function convertToInteractive(key) {\n",
              "          const element = document.querySelector('#df-fd9fc6ed-753b-4a1a-81ab-128ead307cc8');\n",
              "          const dataTable =\n",
              "            await google.colab.kernel.invokeFunction('convertToInteractive',\n",
              "                                                     [key], {});\n",
              "          if (!dataTable) return;\n",
              "\n",
              "          const docLinkHtml = 'Like what you see? Visit the ' +\n",
              "            '<a target=\"_blank\" href=https://colab.research.google.com/notebooks/data_table.ipynb>data table notebook</a>'\n",
              "            + ' to learn more about interactive tables.';\n",
              "          element.innerHTML = '';\n",
              "          dataTable['output_type'] = 'display_data';\n",
              "          await google.colab.output.renderOutput(dataTable, element);\n",
              "          const docLink = document.createElement('div');\n",
              "          docLink.innerHTML = docLinkHtml;\n",
              "          element.appendChild(docLink);\n",
              "        }\n",
              "      </script>\n",
              "    </div>\n",
              "  </div>\n",
              "  "
            ]
          },
          "metadata": {},
          "execution_count": 13
        }
      ]
    },
    {
      "cell_type": "markdown",
      "source": [
        "### Удаляем лишние столбцы"
      ],
      "metadata": {
        "id": "csEW9SdDW_SD"
      }
    },
    {
      "cell_type": "code",
      "source": [
        "X = main_data.drop(target_col, axis = 1)\n",
        "X = X.drop('Num', axis = 1)\n",
        "X = X.drop('ID', axis = 1)\n",
        "#X = X.drop('Square', axis = 1)\n",
        "X = X.drop('Freqs', axis = 1)\n",
        "X = X.drop('Period', axis = 1)\n",
        "#X = X.drop('Building', axis = 1)\n",
        "#X = X.drop('Type', axis = 1)\n",
        "X = X.astype({'Square': np.float})\n",
        "X.head()"
      ],
      "metadata": {
        "colab": {
          "base_uri": "https://localhost:8080/",
          "height": 278
        },
        "id": "2Ul_v8sE3vDL",
        "outputId": "6d074cf8-4628-43ad-a53d-1d2477a0e692"
      },
      "execution_count": null,
      "outputs": [
        {
          "output_type": "stream",
          "name": "stderr",
          "text": [
            "<ipython-input-81-290cb514d224>:9: DeprecationWarning: `np.float` is a deprecated alias for the builtin `float`. To silence this warning, use `float` by itself. Doing this will not modify any behavior and is safe. If you specifically wanted the numpy scalar type, use `np.float64` here.\n",
            "Deprecated in NumPy 1.20; for more details and guidance: https://numpy.org/devdocs/release/1.20.0-notes.html#deprecations\n",
            "  X = X.astype({'Square': np.float})\n"
          ]
        },
        {
          "output_type": "execute_result",
          "data": {
            "text/plain": [
              "          Type  Square           Name  Huff_predict          Building\n",
              "0  супермаркет   664.0      Пятерочка   3507.421614  отдельное здание\n",
              "1      магазин   137.0         Другие    702.405165         жилой дом\n",
              "2  супермаркет   203.0  Ароматный мир   1043.342291         жилой дом\n",
              "3      магазин   216.0         Другие   1070.613756         жилой дом\n",
              "4      магазин   229.0         Другие   1438.618229         жилой дом"
            ],
            "text/html": [
              "\n",
              "  <div id=\"df-b01955b0-fb5e-4a30-a3c1-0d2f93e93287\">\n",
              "    <div class=\"colab-df-container\">\n",
              "      <div>\n",
              "<style scoped>\n",
              "    .dataframe tbody tr th:only-of-type {\n",
              "        vertical-align: middle;\n",
              "    }\n",
              "\n",
              "    .dataframe tbody tr th {\n",
              "        vertical-align: top;\n",
              "    }\n",
              "\n",
              "    .dataframe thead th {\n",
              "        text-align: right;\n",
              "    }\n",
              "</style>\n",
              "<table border=\"1\" class=\"dataframe\">\n",
              "  <thead>\n",
              "    <tr style=\"text-align: right;\">\n",
              "      <th></th>\n",
              "      <th>Type</th>\n",
              "      <th>Square</th>\n",
              "      <th>Name</th>\n",
              "      <th>Huff_predict</th>\n",
              "      <th>Building</th>\n",
              "    </tr>\n",
              "  </thead>\n",
              "  <tbody>\n",
              "    <tr>\n",
              "      <th>0</th>\n",
              "      <td>супермаркет</td>\n",
              "      <td>664.0</td>\n",
              "      <td>Пятерочка</td>\n",
              "      <td>3507.421614</td>\n",
              "      <td>отдельное здание</td>\n",
              "    </tr>\n",
              "    <tr>\n",
              "      <th>1</th>\n",
              "      <td>магазин</td>\n",
              "      <td>137.0</td>\n",
              "      <td>Другие</td>\n",
              "      <td>702.405165</td>\n",
              "      <td>жилой дом</td>\n",
              "    </tr>\n",
              "    <tr>\n",
              "      <th>2</th>\n",
              "      <td>супермаркет</td>\n",
              "      <td>203.0</td>\n",
              "      <td>Ароматный мир</td>\n",
              "      <td>1043.342291</td>\n",
              "      <td>жилой дом</td>\n",
              "    </tr>\n",
              "    <tr>\n",
              "      <th>3</th>\n",
              "      <td>магазин</td>\n",
              "      <td>216.0</td>\n",
              "      <td>Другие</td>\n",
              "      <td>1070.613756</td>\n",
              "      <td>жилой дом</td>\n",
              "    </tr>\n",
              "    <tr>\n",
              "      <th>4</th>\n",
              "      <td>магазин</td>\n",
              "      <td>229.0</td>\n",
              "      <td>Другие</td>\n",
              "      <td>1438.618229</td>\n",
              "      <td>жилой дом</td>\n",
              "    </tr>\n",
              "  </tbody>\n",
              "</table>\n",
              "</div>\n",
              "      <button class=\"colab-df-convert\" onclick=\"convertToInteractive('df-b01955b0-fb5e-4a30-a3c1-0d2f93e93287')\"\n",
              "              title=\"Convert this dataframe to an interactive table.\"\n",
              "              style=\"display:none;\">\n",
              "        \n",
              "  <svg xmlns=\"http://www.w3.org/2000/svg\" height=\"24px\"viewBox=\"0 0 24 24\"\n",
              "       width=\"24px\">\n",
              "    <path d=\"M0 0h24v24H0V0z\" fill=\"none\"/>\n",
              "    <path d=\"M18.56 5.44l.94 2.06.94-2.06 2.06-.94-2.06-.94-.94-2.06-.94 2.06-2.06.94zm-11 1L8.5 8.5l.94-2.06 2.06-.94-2.06-.94L8.5 2.5l-.94 2.06-2.06.94zm10 10l.94 2.06.94-2.06 2.06-.94-2.06-.94-.94-2.06-.94 2.06-2.06.94z\"/><path d=\"M17.41 7.96l-1.37-1.37c-.4-.4-.92-.59-1.43-.59-.52 0-1.04.2-1.43.59L10.3 9.45l-7.72 7.72c-.78.78-.78 2.05 0 2.83L4 21.41c.39.39.9.59 1.41.59.51 0 1.02-.2 1.41-.59l7.78-7.78 2.81-2.81c.8-.78.8-2.07 0-2.86zM5.41 20L4 18.59l7.72-7.72 1.47 1.35L5.41 20z\"/>\n",
              "  </svg>\n",
              "      </button>\n",
              "      \n",
              "  <style>\n",
              "    .colab-df-container {\n",
              "      display:flex;\n",
              "      flex-wrap:wrap;\n",
              "      gap: 12px;\n",
              "    }\n",
              "\n",
              "    .colab-df-convert {\n",
              "      background-color: #E8F0FE;\n",
              "      border: none;\n",
              "      border-radius: 50%;\n",
              "      cursor: pointer;\n",
              "      display: none;\n",
              "      fill: #1967D2;\n",
              "      height: 32px;\n",
              "      padding: 0 0 0 0;\n",
              "      width: 32px;\n",
              "    }\n",
              "\n",
              "    .colab-df-convert:hover {\n",
              "      background-color: #E2EBFA;\n",
              "      box-shadow: 0px 1px 2px rgba(60, 64, 67, 0.3), 0px 1px 3px 1px rgba(60, 64, 67, 0.15);\n",
              "      fill: #174EA6;\n",
              "    }\n",
              "\n",
              "    [theme=dark] .colab-df-convert {\n",
              "      background-color: #3B4455;\n",
              "      fill: #D2E3FC;\n",
              "    }\n",
              "\n",
              "    [theme=dark] .colab-df-convert:hover {\n",
              "      background-color: #434B5C;\n",
              "      box-shadow: 0px 1px 3px 1px rgba(0, 0, 0, 0.15);\n",
              "      filter: drop-shadow(0px 1px 2px rgba(0, 0, 0, 0.3));\n",
              "      fill: #FFFFFF;\n",
              "    }\n",
              "  </style>\n",
              "\n",
              "      <script>\n",
              "        const buttonEl =\n",
              "          document.querySelector('#df-b01955b0-fb5e-4a30-a3c1-0d2f93e93287 button.colab-df-convert');\n",
              "        buttonEl.style.display =\n",
              "          google.colab.kernel.accessAllowed ? 'block' : 'none';\n",
              "\n",
              "        async function convertToInteractive(key) {\n",
              "          const element = document.querySelector('#df-b01955b0-fb5e-4a30-a3c1-0d2f93e93287');\n",
              "          const dataTable =\n",
              "            await google.colab.kernel.invokeFunction('convertToInteractive',\n",
              "                                                     [key], {});\n",
              "          if (!dataTable) return;\n",
              "\n",
              "          const docLinkHtml = 'Like what you see? Visit the ' +\n",
              "            '<a target=\"_blank\" href=https://colab.research.google.com/notebooks/data_table.ipynb>data table notebook</a>'\n",
              "            + ' to learn more about interactive tables.';\n",
              "          element.innerHTML = '';\n",
              "          dataTable['output_type'] = 'display_data';\n",
              "          await google.colab.output.renderOutput(dataTable, element);\n",
              "          const docLink = document.createElement('div');\n",
              "          docLink.innerHTML = docLinkHtml;\n",
              "          element.appendChild(docLink);\n",
              "        }\n",
              "      </script>\n",
              "    </div>\n",
              "  </div>\n",
              "  "
            ]
          },
          "metadata": {},
          "execution_count": 81
        }
      ]
    },
    {
      "cell_type": "code",
      "source": [
        "Y = main_data[target_col]\n",
        "for i in range(len(Y)):\n",
        "  Y[i] = to_flt(Y[i])\n",
        "Y = Y.astype({'FPD' : np.float})\n",
        "Y.head"
      ],
      "metadata": {
        "colab": {
          "base_uri": "https://localhost:8080/"
        },
        "id": "ZT8ZGYHTmG9n",
        "outputId": "63705240-1ca1-4d9b-9d2b-fc394c4db72a"
      },
      "execution_count": null,
      "outputs": [
        {
          "output_type": "stream",
          "name": "stderr",
          "text": [
            "<ipython-input-54-1a38e3094e10>:3: SettingWithCopyWarning: \n",
            "A value is trying to be set on a copy of a slice from a DataFrame\n",
            "\n",
            "See the caveats in the documentation: https://pandas.pydata.org/pandas-docs/stable/user_guide/indexing.html#returning-a-view-versus-a-copy\n",
            "  Y[i] = to_flt(Y[i])\n",
            "<ipython-input-54-1a38e3094e10>:4: DeprecationWarning: `np.float` is a deprecated alias for the builtin `float`. To silence this warning, use `float` by itself. Doing this will not modify any behavior and is safe. If you specifically wanted the numpy scalar type, use `np.float64` here.\n",
            "Deprecated in NumPy 1.20; for more details and guidance: https://numpy.org/devdocs/release/1.20.0-notes.html#deprecations\n",
            "  Y = Y.astype({'FPD' : np.float})\n"
          ]
        },
        {
          "output_type": "execute_result",
          "data": {
            "text/plain": [
              "<bound method NDFrame.head of 0      890.892857\n",
              "1      239.258064\n",
              "2      379.354839\n",
              "3      188.363636\n",
              "4      200.066667\n",
              "          ...    \n",
              "129    473.548387\n",
              "130    159.241379\n",
              "131    215.156250\n",
              "132    223.909091\n",
              "133    293.033333\n",
              "Name: FPD, Length: 134, dtype: float64>"
            ]
          },
          "metadata": {},
          "execution_count": 54
        }
      ]
    },
    {
      "cell_type": "markdown",
      "source": [
        "### Создаем, обучаем и тестируем модель."
      ],
      "metadata": {
        "id": "DNYt5o8Ronuf"
      }
    },
    {
      "cell_type": "code",
      "source": [
        "X = pd.get_dummies(X, columns=cat_cols)\n"
      ],
      "metadata": {
        "id": "wdbYVJ4tpaVT"
      },
      "execution_count": null,
      "outputs": []
    },
    {
      "cell_type": "code",
      "source": [
        "import torch\n",
        "!pip install torchmetrics\n",
        "from torch import nn\n",
        "from torch.nn import MSELoss, L1Loss\n",
        "from torchmetrics import MeanAbsolutePercentageError\n",
        "\n",
        "\n",
        "torch.manual_seed(17)\n",
        "\n",
        "\n",
        "class NeuralNetwork(torch.nn.Module):\n",
        "\n",
        "    def __init__(self):\n",
        "        super(NeuralNetwork, self).__init__()\n",
        "        self.layers = torch.nn.Sequential(\n",
        "            torch.nn.Linear(len(X.columns), 64),\n",
        "            nn.LeakyReLU(0.1),\n",
        "            nn.Linear(64, 32),\n",
        "            nn.LeakyReLU(0.1),\n",
        "            nn.Linear(32, 1)\n",
        "        )\n",
        "\n",
        "    def forward(self, x):\n",
        "        y_pred = self.layers(x)\n",
        "        return y_pred"
      ],
      "metadata": {
        "colab": {
          "base_uri": "https://localhost:8080/"
        },
        "id": "cYz243XIppd6",
        "outputId": "d88aef28-75a2-4098-d5c0-d71f9b8edb23"
      },
      "execution_count": null,
      "outputs": [
        {
          "output_type": "stream",
          "name": "stdout",
          "text": [
            "Looking in indexes: https://pypi.org/simple, https://us-python.pkg.dev/colab-wheels/public/simple/\n",
            "Requirement already satisfied: torchmetrics in /usr/local/lib/python3.10/dist-packages (0.11.4)\n",
            "Requirement already satisfied: numpy>=1.17.2 in /usr/local/lib/python3.10/dist-packages (from torchmetrics) (1.22.4)\n",
            "Requirement already satisfied: torch>=1.8.1 in /usr/local/lib/python3.10/dist-packages (from torchmetrics) (2.0.1+cu118)\n",
            "Requirement already satisfied: packaging in /usr/local/lib/python3.10/dist-packages (from torchmetrics) (23.1)\n",
            "Requirement already satisfied: filelock in /usr/local/lib/python3.10/dist-packages (from torch>=1.8.1->torchmetrics) (3.12.0)\n",
            "Requirement already satisfied: typing-extensions in /usr/local/lib/python3.10/dist-packages (from torch>=1.8.1->torchmetrics) (4.5.0)\n",
            "Requirement already satisfied: sympy in /usr/local/lib/python3.10/dist-packages (from torch>=1.8.1->torchmetrics) (1.11.1)\n",
            "Requirement already satisfied: networkx in /usr/local/lib/python3.10/dist-packages (from torch>=1.8.1->torchmetrics) (3.1)\n",
            "Requirement already satisfied: jinja2 in /usr/local/lib/python3.10/dist-packages (from torch>=1.8.1->torchmetrics) (3.1.2)\n",
            "Requirement already satisfied: triton==2.0.0 in /usr/local/lib/python3.10/dist-packages (from torch>=1.8.1->torchmetrics) (2.0.0)\n",
            "Requirement already satisfied: cmake in /usr/local/lib/python3.10/dist-packages (from triton==2.0.0->torch>=1.8.1->torchmetrics) (3.25.2)\n",
            "Requirement already satisfied: lit in /usr/local/lib/python3.10/dist-packages (from triton==2.0.0->torch>=1.8.1->torchmetrics) (16.0.5)\n",
            "Requirement already satisfied: MarkupSafe>=2.0 in /usr/local/lib/python3.10/dist-packages (from jinja2->torch>=1.8.1->torchmetrics) (2.1.2)\n",
            "Requirement already satisfied: mpmath>=0.19 in /usr/local/lib/python3.10/dist-packages (from sympy->torch>=1.8.1->torchmetrics) (1.3.0)\n"
          ]
        }
      ]
    },
    {
      "cell_type": "code",
      "source": [
        "device = torch.device('cuda') if torch.cuda.is_available() else torch.device('cpu')\n",
        "device"
      ],
      "metadata": {
        "colab": {
          "base_uri": "https://localhost:8080/"
        },
        "id": "loavs6fKq6Lc",
        "outputId": "4feff3b9-8c4f-4c0a-e27a-7c0e0a8cd417"
      },
      "execution_count": null,
      "outputs": [
        {
          "output_type": "execute_result",
          "data": {
            "text/plain": [
              "device(type='cuda')"
            ]
          },
          "metadata": {},
          "execution_count": 34
        }
      ]
    },
    {
      "cell_type": "code",
      "source": [
        "X.dtypes"
      ],
      "metadata": {
        "colab": {
          "base_uri": "https://localhost:8080/"
        },
        "id": "eUnPyjTduLTg",
        "outputId": "8ed0e09b-f7c7-40b9-ef55-b7384b06c98b"
      },
      "execution_count": null,
      "outputs": [
        {
          "output_type": "execute_result",
          "data": {
            "text/plain": [
              "Square                       float64\n",
              "Huff_predict                 float64\n",
              "Type_дискаунтер                uint8\n",
              "Type_киоск                     uint8\n",
              "Type_лавка                     uint8\n",
              "Type_магазин                   uint8\n",
              "Type_минимаркет                uint8\n",
              "Type_супермаркет               uint8\n",
              "Name_Азбука Вкуса              uint8\n",
              "Name_Ароматный мир             uint8\n",
              "Name_ВкусВилл                  uint8\n",
              "Name_Дикси                     uint8\n",
              "Name_Другие                    uint8\n",
              "Name_Красное & Белое           uint8\n",
              "Name_Лента                     uint8\n",
              "Name_Магнит                    uint8\n",
              "Name_Перекресток               uint8\n",
              "Name_Пятерочка                 uint8\n",
              "Name_Семишагофф                uint8\n",
              "Name_Фасоль                    uint8\n",
              "Building_ТЦ                    uint8\n",
              "Building_жилой дм              uint8\n",
              "Building_жилой дом             uint8\n",
              "Building_жилой дом             uint8\n",
              "Building_отдельное здание      uint8\n",
              "Building_павильон              uint8\n",
              "dtype: object"
            ]
          },
          "metadata": {},
          "execution_count": 84
        }
      ]
    },
    {
      "cell_type": "code",
      "source": [
        "m_model = NeuralNetwork().to(device)\n",
        "optimizer_ln = torch.optim.Adam(m_model.parameters(), lr=0.008)\n",
        "\n",
        "\n",
        "# choose loss\n",
        "loss_l1 = L1Loss()\n",
        "loss_mse = MSELoss()\n",
        "loss_mape = MeanAbsolutePercentageError()\n",
        "loss = loss_l1\n",
        "from torch.autograd import Variable\n",
        "X_train, X_test, Y_train, Y_test = train_test_split(X, Y, test_size = 0.15)\n",
        "\n",
        "x_data_train = Variable(torch.Tensor(X_train.values)).to(device)\n",
        "y_data_train = Variable(torch.Tensor([[target] for target in Y_train.values])).to(device)\n",
        "\n",
        "for epoch in range(20000):\n",
        "    pred_y = m_model(x_data_train)\n",
        "    loss_ln = loss(pred_y, y_data_train)\n",
        "\n",
        "    optimizer_ln.zero_grad()\n",
        "    loss_ln.backward()\n",
        "    optimizer_ln.step()"
      ],
      "metadata": {
        "id": "ioGK4ATosVDE"
      },
      "execution_count": null,
      "outputs": []
    },
    {
      "cell_type": "code",
      "source": [
        "from sklearn.metrics import mean_absolute_percentage_error\n",
        "from sklearn.model_selection import StratifiedKFold"
      ],
      "metadata": {
        "id": "JxuIGG151d8U"
      },
      "execution_count": null,
      "outputs": []
    },
    {
      "cell_type": "code",
      "source": [
        "x_data_test = Variable(torch.Tensor(X_test.values)).to(device)\n",
        "y_data_test = Variable(torch.Tensor([[target] for target in Y_test.values])).to(device)\n",
        "x_data_all = Variable(torch.Tensor(X.values)).to(device)\n",
        "Y_pred = m_model(x_data_test)\n",
        "Y_predict = m_model(x_data_all)\n",
        "\n",
        "aim = mean_absolute_percentage_error(Y, Y_predict.cpu().detach().numpy())\n",
        "print('\\nMAPE на всем датасете:', aim)\n",
        "print('\\nMAPE на закрытой тестовой выборке:', mean_absolute_percentage_error(Y_test, Y_pred.cpu().detach().numpy()))"
      ],
      "metadata": {
        "colab": {
          "base_uri": "https://localhost:8080/"
        },
        "id": "3h-AjTjKw63g",
        "outputId": "de289040-900c-40b7-f7d4-501cf5f5d682"
      },
      "execution_count": null,
      "outputs": [
        {
          "output_type": "stream",
          "name": "stdout",
          "text": [
            "\n",
            "MAPE на всем датасете: 0.20548084305889325\n",
            "\n",
            "MAPE на закрытой тестовой выборке: 0.547046375150979\n"
          ]
        }
      ]
    },
    {
      "cell_type": "markdown",
      "source": [
        "##Сохранение модели"
      ],
      "metadata": {
        "id": "L-Ro_oxE6VVY"
      }
    },
    {
      "cell_type": "code",
      "source": [
        "torch.save(m_model.state_dict(), 'model_pars')"
      ],
      "metadata": {
        "id": "fBDjTG0M5QlR"
      },
      "execution_count": null,
      "outputs": []
    },
    {
      "cell_type": "markdown",
      "source": [
        "##Скачивание модели\n",
        "Тут надо снова создать класс (можно назвать по-другому, не важно). Главное - полное совпадение слоев.\n",
        "\n",
        "Нетрудно видеть, что после загрузки результаты предсказаний такие же, что и у оригинальной модели. Значит, все работает."
      ],
      "metadata": {
        "id": "r6GGGISc6YnT"
      }
    },
    {
      "cell_type": "code",
      "source": [
        "class NeuralNetwork_copy(torch.nn.Module):\n",
        "    def __init__(self):\n",
        "        super(NeuralNetwork_copy, self).__init__()\n",
        "        self.layers = torch.nn.Sequential(\n",
        "            torch.nn.Linear(len(X.columns), 64),\n",
        "            nn.LeakyReLU(0.1),\n",
        "            nn.Linear(64, 32),\n",
        "            nn.LeakyReLU(0.1),\n",
        "            nn.Linear(32, 1)\n",
        "        )\n",
        "\n",
        "    def forward(self, x):\n",
        "        y_pred = self.layers(x)\n",
        "        return y_pred\n",
        "\n",
        "\n",
        "loaded_model = NeuralNetwork_copy()\n",
        "loaded_model.load_state_dict(torch.load('model_pars'))\n",
        "loaded_model.eval()\n",
        "\n",
        "Y_pred_1 = m_model(x_data_test)\n",
        "Y_predict_1 = m_model(x_data_all)\n",
        "\n",
        "aim = mean_absolute_percentage_error(Y, Y_predict_1.cpu().detach().numpy())\n",
        "print('\\nMAPE на всем датасете:', aim)\n",
        "print('\\nMAPE на закрытой тестовой выборке:', mean_absolute_percentage_error(Y_test, Y_pred_1.cpu().detach().numpy()))"
      ],
      "metadata": {
        "colab": {
          "base_uri": "https://localhost:8080/"
        },
        "id": "UTyZBknK5zsc",
        "outputId": "3d09fccd-d5f6-46a8-a7dc-74bce90bd021"
      },
      "execution_count": null,
      "outputs": [
        {
          "output_type": "stream",
          "name": "stdout",
          "text": [
            "\n",
            "MAPE на всем датасете: 0.20548084305889325\n",
            "\n",
            "MAPE на закрытой тестовой выборке: 0.547046375150979\n"
          ]
        }
      ]
    },
    {
      "cell_type": "markdown",
      "source": [
        "### Как мы видим, на всём датасете MAPE получилась порядка 20.55%, что немного лучше, чем аналогичный показатель у модели на catboost."
      ],
      "metadata": {
        "id": "nBrqjc_-lbit"
      }
    }
  ]
}